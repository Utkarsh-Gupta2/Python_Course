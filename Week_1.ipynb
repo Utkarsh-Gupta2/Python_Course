{
 "cells": [
  {
   "cell_type": "code",
   "execution_count": null,
   "id": "116f57e3",
   "metadata": {},
   "outputs": [
    {
     "name": "stdout",
     "output_type": "stream",
     "text": [
      "2.3.3\n",
      "[0 1 2 3 4 5 6 7 8 9]\n"
     ]
    }
   ],
   "source": [
    "import numpy as np\n",
    "print(np.__version__)\n",
    "a = np.arange(10)\n",
    "print(a)"
   ]
  },
  {
   "cell_type": "code",
   "execution_count": null,
   "id": "3294ddff",
   "metadata": {},
   "outputs": [],
   "source": [
    "a_1d = np.arange(10)\n",
    "print(a_1d) \n",
    "a_2d = a_1d.reshape(2, 5)\n",
    "print(a_2d)\n",
    "a_3d = np.arange(30).reshape(2, 3, 5)\n",
    "print(a_3d)\n",
    "print(a_3d.shape)\n",
    "print(a_3d.dtype)\n",
    "print(a_3d.ndim)\n",
    "\n",
    "b = a[2:8:2]\n",
    "print(b)    \n",
    "\n",
    "print(a[::-1])\n",
    "\n",
    "c = np.array(12)\n",
    "print(c)\n",
    "print(c.shape)\n",
    "print(c.reshape(3,4))\n",
    "print(c.reshape(4,3))\n",
    "print(c.reshape(2,6))\n"
   ]
  }
 ],
 "metadata": {
  "kernelspec": {
   "display_name": "Python 3",
   "language": "python",
   "name": "python3"
  },
  "language_info": {
   "codemirror_mode": {
    "name": "ipython",
    "version": 3
   },
   "file_extension": ".py",
   "mimetype": "text/x-python",
   "name": "python",
   "nbconvert_exporter": "python",
   "pygments_lexer": "ipython3",
   "version": "3.11.9"
  }
 },
 "nbformat": 4,
 "nbformat_minor": 5
}
