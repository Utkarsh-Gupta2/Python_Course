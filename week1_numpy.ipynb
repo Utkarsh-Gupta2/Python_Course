{
 "cells": [
  {
   "cell_type": "markdown",
   "id": "766bcc08",
   "metadata": {},
   "source": [
    "# Day 1 — Indexing & Slicing"
   ]
  },
  {
   "cell_type": "markdown",
   "id": "58c20de0",
   "metadata": {},
   "source": [
    "1. Create 1-D, 2-D, 3-D arrays. Print shapes and dtypes.\n",
    "2. Slice a[2:8:2], reverse a[::-1].\n",
    "3. Reshape a 1×12 array into 3×4, 4×3, 2×6.\n",
    "4. Verify a.T does not copy data (np.shares_memory(a, a.T))."
   ]
  },
  {
   "cell_type": "code",
   "execution_count": null,
   "id": "c0173538",
   "metadata": {},
   "outputs": [],
   "source": [
    "import numpy as np\n",
    "print(np.__version__)"
   ]
  },
  {
   "cell_type": "code",
   "execution_count": null,
   "id": "bc7e3ee2",
   "metadata": {},
   "outputs": [],
   "source": [
    "# 1\n",
    "a_1d = np.arange(10)\n",
    "print(a_1d) \n",
    "a_2d = a_1d.reshape(2, 5)\n",
    "print(a_2d)\n",
    "a_3d = np.arange(30).reshape(2, 3, 5)\n",
    "print(a_3d)\n",
    "print(a_3d.shape)\n",
    "print(a_3d.dtype)\n",
    "print(a_3d.ndim)\n",
    "\n",
    "# 2\n",
    "b = a[2:8:2]\n",
    "print(b)    \n",
    "\n",
    "print(a[::-1])\n",
    "\n",
    "# 3\n",
    "c = np.arange(12)\n",
    "print(c)\n",
    "print(c.shape)\n",
    "print(c.reshape(3,4))\n",
    "print(c.reshape(4,3))\n",
    "print(c.reshape(2,6))\n",
    "\n",
    "#4\n",
    "print(a.T)\n",
    "np.shares_memory(a, a.T)"
   ]
  },
  {
   "cell_type": "markdown",
   "id": "728cf8a3",
   "metadata": {},
   "source": [
    "## A. 1‑D arrays\n",
    "\n",
    "Create `x = np.arange(10)`\n",
    "\n",
    "Tasks:\n",
    "1. `x[2]`, `x[-1]`, `x[1:7:2]`, `x[::-1]`\n",
    "2. Set every even index to `-1`\n",
    "3. Extract elements at positions `[1,4,7]`\n",
    "4. Replace `x[::3]` with `99`\n",
    "5. Create `y = x[3:]`; modify `y[0]`; check if `x` changes"
   ]
  },
  {
   "cell_type": "code",
   "execution_count": null,
   "id": "a2a98945",
   "metadata": {},
   "outputs": [],
   "source": [
    "### Your code here\n",
    "# 1\n",
    "x = np.arange(10)\n",
    "print(x)\n",
    "print(x[2])\n",
    "print(x[-1])\n",
    "print(x[1:7:2])\n",
    "print(x[::-1])\n",
    "\n",
    "# 2\n",
    "x = np.arange(10)\n",
    "print(x)\n",
    "y = x.copy()\n",
    "y[0:9:2] = -1\n",
    "print(y)\n",
    "\n",
    "# 3\n",
    "xx = [1,4,7]\n",
    "print(x[xx])\n",
    "\n",
    "# 4\n",
    "y[::3] = 99\n",
    "print(y)\n",
    "\n",
    "# 5\n",
    "z = x[3:].copy()\n",
    "print(z)\n",
    "print(x)\n",
    "np.shares_memory(x, z)\n",
    "\n"
   ]
  },
  {
   "cell_type": "markdown",
   "id": "eb89e166",
   "metadata": {},
   "source": [
    "## B. 2‑D arrays\n",
    "\n",
    "Create `A = np.arange(12).reshape(3,4)`\n",
    "\n",
    "Tasks:\n",
    "1. Select second row\n",
    "2. Select third column\n",
    "3. Extract submatrix rows 0–1 and cols 1–3\n",
    "4. Swap first and last columns\n",
    "5. Reverse order of rows\n",
    "6. Replace border elements with 0\n",
    "7. Set diagonal to 999\n",
    "8. Zero out values > 6"
   ]
  },
  {
   "cell_type": "code",
   "execution_count": null,
   "id": "7bf9b57f",
   "metadata": {},
   "outputs": [],
   "source": [
    "### Your code here\n",
    "A = np.arange(12).reshape(3,4)\n",
    "print(A)\n",
    "print(A[1])\n",
    "print(A[1,:])\n",
    "print(A[:,2])\n",
    "print(A[0:2,1:4])\n",
    "B = A.copy()\n",
    "B[:,0] = A[:,3]\n",
    "print(B)\n",
    "B[:,3] = A[:,0]\n",
    "print(B)\n",
    "C = A.copy()\n",
    "C = C[::-1,:]\n",
    "print(C)\n",
    "print(np.diag(A))\n",
    "A[[0,-1],:] = 0\n",
    "A[:,[0,-1]] = 0\n",
    "np.fill_diagonal(A, 99) \n",
    "print(A)\n",
    "print(C)\n",
    "C[C > 6] = 0\n",
    "print(C)"
   ]
  },
  {
   "cell_type": "markdown",
   "id": "2ad6bcfc",
   "metadata": {},
   "source": [
    "## C. Fancy indexing\n",
    "\n",
    "Create `B = np.arange(16).reshape(4,4)`\n",
    "\n",
    "Tasks:\n",
    "1. Pick elements (0,1), (1,2), (2,3)\n",
    "2. Assign 100 to same positions\n",
    "3. Reorder rows as [2,0,3,1]\n",
    "4. Extract columns `[3,1]`\n",
    "5. Zero all rows where row sum > 20"
   ]
  },
  {
   "cell_type": "code",
   "execution_count": null,
   "id": "ad3aa946",
   "metadata": {},
   "outputs": [],
   "source": [
    "### Your code here\n",
    "B = np.arange(16).reshape(4,4)\n",
    "print(B)\n",
    "idx = np.arange(3)\n",
    "print(idx)\n",
    "print(B[idx, idx+1])\n",
    "B[idx, idx+1] = 100\n",
    "print(B)\n",
    "print(B[[2,0,3,1], :])\n",
    "print(B[:,[3,1]])\n",
    "B = np.arange(16).reshape(4,4)\n",
    "print(B)\n",
    "B[np.sum(B, axis=1) > 25] = 0\n",
    "print(B)\n"
   ]
  },
  {
   "cell_type": "markdown",
   "id": "7c5c8398",
   "metadata": {},
   "source": [
    "## D. Boolean indexing\n",
    "\n",
    "Create `C = np.random.randint(-5,6,(4,5))`\n",
    "\n",
    "Tasks:\n",
    "1. Extract positive elements\n",
    "2. Replace negatives with 0 (in‑place)\n",
    "3. Get indices of elements > 3\n",
    "4. Count how many zeros\n",
    "5. Normalize only positive elements"
   ]
  },
  {
   "cell_type": "code",
   "execution_count": null,
   "id": "8ba97bbf",
   "metadata": {},
   "outputs": [],
   "source": [
    "### Your code here\n"
   ]
  },
  {
   "cell_type": "markdown",
   "id": "75ba39bb",
   "metadata": {},
   "source": [
    "## E. Combined challenge\n",
    "\n",
    "Create a 5×5 array with values 0–24.\n",
    "\n",
    "Tasks:\n",
    "1. Replace center 3×3 block with 1s\n",
    "2. Extract every other row and column (checkerboard)\n",
    "3. Set all values on the secondary diagonal to −1"
   ]
  },
  {
   "cell_type": "code",
   "execution_count": null,
   "id": "08ddd455",
   "metadata": {},
   "outputs": [],
   "source": [
    "### Your code here\n"
   ]
  },
  {
   "cell_type": "markdown",
   "id": "61b52265",
   "metadata": {},
   "source": [
    "# Day 2 — Broadcasting & Masking"
   ]
  },
  {
   "cell_type": "markdown",
   "id": "59ab55bf",
   "metadata": {},
   "source": [
    "## A. Broadcasting basics\n",
    "\n",
    "Create `A = np.arange(12).reshape(3,4)` and `b = np.array([0,1,2,3])`.\n",
    "\n",
    "Tasks:\n",
    "1. `A + b`\n",
    "2. `A * (b+1)`\n",
    "3. Add a column vector `c = np.array([10,20,30])[:,None]` to `A`"
   ]
  },
  {
   "cell_type": "code",
   "execution_count": null,
   "id": "d1d2dfc7",
   "metadata": {},
   "outputs": [],
   "source": [
    "### Your code here\n"
   ]
  },
  {
   "cell_type": "markdown",
   "id": "b64a1dfe",
   "metadata": {},
   "source": [
    "## B. Row/column reductions with broadcasting\n",
    "\n",
    "Tasks:\n",
    "1. Row means and column means\n",
    "2. Subtract row means from each row\n",
    "3. Subtract column means from each column"
   ]
  },
  {
   "cell_type": "code",
   "execution_count": null,
   "id": "db4969e3",
   "metadata": {},
   "outputs": [],
   "source": [
    "### Your code here\n"
   ]
  },
  {
   "cell_type": "markdown",
   "id": "928ff279",
   "metadata": {},
   "source": [
    "## C. Standardization with masks\n",
    "\n",
    "Tasks:\n",
    "1. Compute per‑column z‑scores: `(A - A.mean(0))/A.std(0)`\n",
    "2. Clip z to ±2 using boolean masks\n",
    "3. Replace values where `A<5` with their column median"
   ]
  },
  {
   "cell_type": "code",
   "execution_count": null,
   "id": "51eb7311",
   "metadata": {},
   "outputs": [],
   "source": [
    "### Your code here\n"
   ]
  },
  {
   "cell_type": "markdown",
   "id": "b682a62b",
   "metadata": {},
   "source": [
    "## D. Conditional broadcasting\n",
    "\n",
    "Tasks:\n",
    "1. Build mask `M = (A%2==0)` and set even elements to `-A[even]`\n",
    "2. Use `np.where` to choose between `A` and `A.mean(0)` by row sum threshold\n",
    "3. Normalize each row to sum 1 using broadcasting"
   ]
  },
  {
   "cell_type": "code",
   "execution_count": null,
   "id": "09378385",
   "metadata": {},
   "outputs": [],
   "source": [
    "### Your code here\n"
   ]
  },
  {
   "cell_type": "markdown",
   "id": "32ad5501",
   "metadata": {},
   "source": [
    "## E. Outer operations\n",
    "\n",
    "Use outer products without loops.\n",
    "\n",
    "Tasks:\n",
    "1. `x = np.arange(1,6)` → compute outer sum and outer product with `np.newaxis`\n",
    "2. Gaussian kernel matrix: `K[i,j]=exp(-((x[i]-x[j])**2)/(2*s**2))`"
   ]
  },
  {
   "cell_type": "code",
   "execution_count": null,
   "id": "9ffd03f0",
   "metadata": {},
   "outputs": [],
   "source": [
    "### Your code here\n"
   ]
  },
  {
   "cell_type": "markdown",
   "id": "1228429c",
   "metadata": {},
   "source": [
    "## F. Tiling vs broadcasting\n",
    "\n",
    "Tasks:\n",
    "1. Recreate `A + b` using `np.tile` and compare memory with `nbytes`\n",
    "2. Explain why broadcasting is preferable\n",
    "3. Verify same result with `np.allclose`"
   ]
  },
  {
   "cell_type": "code",
   "execution_count": null,
   "id": "9b5d0f1e",
   "metadata": {},
   "outputs": [],
   "source": [
    "### Your code here\n"
   ]
  },
  {
   "cell_type": "markdown",
   "id": "39bdca77",
   "metadata": {},
   "source": [
    "## G. In‑place ops and `out=`\n",
    "\n",
    "Tasks:\n",
    "1. In‑place scale `A *= 2`\n",
    "2. Compute `np.add(A, b, out=A)` and discuss aliasing risks\n",
    "3. Safe pattern: write into a preallocated array `C = np.empty_like(A)` then `np.add(A,b,out=C)`"
   ]
  },
  {
   "cell_type": "code",
   "execution_count": null,
   "id": "4e155de1",
   "metadata": {},
   "outputs": [],
   "source": [
    "### Your code here\n"
   ]
  },
  {
   "cell_type": "markdown",
   "id": "8531a4a5",
   "metadata": {},
   "source": [
    "## H. Shape manipulations for broadcasting\n",
    "\n",
    "Tasks:\n",
    "1. Use `None/np.newaxis` to turn 1‑D into row/col vectors\n",
    "2. Broadcast a 1×4 row into 3×4, and a 3×1 column into 3×4, then add\n",
    "3. Verify `np.shares_memory` behaviors on views created via reshape"
   ]
  },
  {
   "cell_type": "code",
   "execution_count": null,
   "id": "08e0355a",
   "metadata": {},
   "outputs": [],
   "source": [
    "### Your code here\n"
   ]
  },
  {
   "cell_type": "markdown",
   "id": "f1abce35",
   "metadata": {},
   "source": [
    "## I. Mixed indexing + broadcasting\n",
    "\n",
    "Tasks:\n",
    "1. Given `A (5×6)`, set last column to column mean of first five columns\n",
    "2. For each row, center only the columns where value > row median\n",
    "3. Scatter‑assign: given `idx = [0,2,4]`, add 10 to `A[idx, :]`"
   ]
  },
  {
   "cell_type": "code",
   "execution_count": null,
   "id": "3d4f063e",
   "metadata": {},
   "outputs": [],
   "source": [
    "### Your code here\n"
   ]
  },
  {
   "cell_type": "markdown",
   "id": "062a56a1",
   "metadata": {},
   "source": [
    "## J. Challenge — broadcasted normalization pipeline\n",
    "\n",
    "Given `X (N×D)` with N≥1000, D≥50, perform without loops:\n",
    "1. Min‑max scale each column to [0,1]\n",
    "2. Clip to [0.05,0.95]\n",
    "3. Re‑center to zero mean and unit variance per column"
   ]
  },
  {
   "cell_type": "code",
   "execution_count": null,
   "id": "5e511d83",
   "metadata": {},
   "outputs": [],
   "source": [
    "### Your code here\n"
   ]
  },
  {
   "cell_type": "markdown",
   "id": "0ab28b7f",
   "metadata": {},
   "source": [
    "# Day 3 — Vectorization & Performance"
   ]
  },
  {
   "cell_type": "markdown",
   "id": "3d043d27",
   "metadata": {},
   "source": [
    "## A. Loop vs vectorized (timing example)\n",
    "\n",
    "**Sample snippet:**\n",
    "```python\n",
    "import numpy as np, time\n",
    "n=1_000_000\n",
    "x=np.random.randn(n)\n",
    "# loop\n",
    "s=0.0; t0=time.time()\n",
    "for v in x: s+=v*v\n",
    "print('loop', time.time()-t0)\n",
    "# vectorized\n",
    "t0=time.time(); s2=np.dot(x,x)\n",
    "print('vec', time.time()-t0)\n",
    "```\n",
    "Tasks:\n",
    "1. Repeat for sum of abs\n",
    "2. Measure speedup factor"
   ]
  },
  {
   "cell_type": "code",
   "execution_count": null,
   "id": "543d2893",
   "metadata": {},
   "outputs": [],
   "source": [
    "### Your code here\n"
   ]
  },
  {
   "cell_type": "markdown",
   "id": "0bb32d52",
   "metadata": {},
   "source": [
    "## B. Reductions along axes\n",
    "\n",
    "Tasks:\n",
    "1. For `M (1000×1000)` compute column sums, means, stds\n",
    "2. Normalize each column to zero mean unit std\n",
    "3. Compare `np.sum(M,axis=0)` vs chaining: `M.mean(0)` and discuss numerical stability"
   ]
  },
  {
   "cell_type": "code",
   "execution_count": null,
   "id": "cbc1eaa7",
   "metadata": {},
   "outputs": [],
   "source": [
    "### Your code here\n"
   ]
  },
  {
   "cell_type": "markdown",
   "id": "ce478e14",
   "metadata": {},
   "source": [
    "## C. Preallocation vs append\n",
    "\n",
    "**Sample snippet:**\n",
    "```python\n",
    "# bad\n",
    "out=[]\n",
    "for i in range(10000):\n",
    "    out.append(i)\n",
    "arr=np.array(out)\n",
    "# good\n",
    "arr=np.empty(10000, dtype=np.int32)\n",
    "for i in range(10000):\n",
    "    arr[i]=i\n",
    "```\n",
    "Tasks:\n",
    "1. Time both approaches\n",
    "2. Scale to 200k and compare memory via `arr.nbytes`"
   ]
  },
  {
   "cell_type": "code",
   "execution_count": null,
   "id": "fdb4afb9",
   "metadata": {},
   "outputs": [],
   "source": [
    "### Your code here\n"
   ]
  },
  {
   "cell_type": "markdown",
   "id": "e4bb67eb",
   "metadata": {},
   "source": [
    "## D. Vectorized distances\n",
    "\n",
    "Tasks:\n",
    "1. Given `X (N×D)` and `Y (M×D)` compute pairwise squared Euclidean distances without Python loops\n",
    "2. Verify against a double loop for small N,M\n",
    "3. Optional: cosine similarity via normalized dot products"
   ]
  },
  {
   "cell_type": "code",
   "execution_count": null,
   "id": "2ddb9e4f",
   "metadata": {},
   "outputs": [],
   "source": [
    "### Your code here\n"
   ]
  },
  {
   "cell_type": "markdown",
   "id": "eb2e65b4",
   "metadata": {},
   "source": [
    "## E. Logical vectorization\n",
    "\n",
    "Tasks:\n",
    "1. Count number of rows in `M` where all entries > 0 using boolean reductions\n",
    "2. Create a mask for rows containing any NaN and drop them without loops\n",
    "3. Implement piecewise function with `np.select` rather than Python `if`"
   ]
  },
  {
   "cell_type": "code",
   "execution_count": null,
   "id": "504b18ce",
   "metadata": {},
   "outputs": [],
   "source": [
    "### Your code here\n"
   ]
  },
  {
   "cell_type": "markdown",
   "id": "93171826",
   "metadata": {},
   "source": [
    "## F. Sliding windows (stride tricks)\n",
    "\n",
    "**Sample snippet:**\n",
    "```python\n",
    "from numpy.lib.stride_tricks import sliding_window_view as swv\n",
    "x=np.arange(10)\n",
    "W=swv(x, window_shape=4)  # shape (7,4)\n",
    "```\n",
    "Tasks:\n",
    "1. Rolling mean of 1‑D array using `swv`\n",
    "2. 2‑D rolling mean (image‑like) with window 3×3\n",
    "3. Compare to `np.convolve`/`scipy.signal.convolve2d` conceptually"
   ]
  },
  {
   "cell_type": "code",
   "execution_count": null,
   "id": "44b579b3",
   "metadata": {},
   "outputs": [],
   "source": [
    "### Your code here\n"
   ]
  },
  {
   "cell_type": "markdown",
   "id": "feb02846",
   "metadata": {},
   "source": [
    "## G. Map‑reduce with `np.bincount`\n",
    "\n",
    "Tasks:\n",
    "1. Given labels `y∈{0..K-1}` and values `v`, compute per‑class sum/mean with `bincount`\n",
    "2. Create histogram equalization counts for a grayscale image (0..255)\n",
    "3. One‑hot encode labels with `np.eye` or advanced indexing"
   ]
  },
  {
   "cell_type": "code",
   "execution_count": null,
   "id": "33b8df5c",
   "metadata": {},
   "outputs": [],
   "source": [
    "### Your code here\n"
   ]
  },
  {
   "cell_type": "markdown",
   "id": "9dfbc6b3",
   "metadata": {},
   "source": [
    "## H. Sorting and ranking\n",
    "\n",
    "Tasks:\n",
    "1. `argsort` a vector and recover ranks\n",
    "2. Lexicographic sort of 2 columns using `np.lexsort`\n",
    "3. Top‑k without full sort using `np.argpartition`"
   ]
  },
  {
   "cell_type": "code",
   "execution_count": null,
   "id": "278917d7",
   "metadata": {},
   "outputs": [],
   "source": [
    "### Your code here\n"
   ]
  },
  {
   "cell_type": "markdown",
   "id": "9888491d",
   "metadata": {},
   "source": [
    "## I. Set operations\n",
    "\n",
    "Tasks:\n",
    "1. Unique rows of a 2‑D array\n",
    "2. Intersection and union of two 1‑D arrays\n",
    "3. Find duplicates and their indices"
   ]
  },
  {
   "cell_type": "code",
   "execution_count": null,
   "id": "6c7be076",
   "metadata": {},
   "outputs": [],
   "source": [
    "### Your code here\n"
   ]
  },
  {
   "cell_type": "markdown",
   "id": "ed212f63",
   "metadata": {},
   "source": [
    "## J. Challenge — vectorize the pipeline\n",
    "\n",
    "Given large `X (100k×100)` and threshold `t`, compute:\n",
    "1. Columnwise z‑score\n",
    "2. Boolean mask of rows where at least 10 entries exceed `t`\n",
    "3. Indices of top‑5 columns per row by absolute value — all without Python loops"
   ]
  },
  {
   "cell_type": "code",
   "execution_count": null,
   "id": "18734ce2",
   "metadata": {},
   "outputs": [],
   "source": [
    "### Your code here\n"
   ]
  },
  {
   "cell_type": "markdown",
   "id": "5ee3e6f9",
   "metadata": {},
   "source": [
    "# Day 4 — Plotting Basics"
   ]
  },
  {
   "cell_type": "markdown",
   "id": "1957ec5a",
   "metadata": {},
   "source": [
    "## A. Multi‑line plots\n",
    "\n",
    "**Sample snippet:**\n",
    "```python\n",
    "import numpy as np, matplotlib.pyplot as plt\n",
    "x=np.linspace(0,1,500,endpoint=False)\n",
    "plt.plot(x, np.sin(2*np.pi*5*x), label='sin 5Hz')\n",
    "plt.plot(x, np.cos(2*np.pi*7*x), label='cos 7Hz')\n",
    "plt.xlabel('Time [s]'); plt.ylabel('Amp'); plt.legend(); plt.grid(True)\n",
    "plt.show()\n",
    "```\n",
    "Tasks:\n",
    "1. Plot 3 signals and a sum\n",
    "2. Add labels, legend, grid"
   ]
  },
  {
   "cell_type": "code",
   "execution_count": null,
   "id": "7a699f63",
   "metadata": {},
   "outputs": [],
   "source": [
    "### Your code here\n"
   ]
  },
  {
   "cell_type": "markdown",
   "id": "8229f8bb",
   "metadata": {},
   "source": [
    "## B. Subplots layout\n",
    "\n",
    "**Sample snippet:**\n",
    "```python\n",
    "fig,axes=plt.subplots(2,2, figsize=(8,6), sharex=True)\n",
    "axes[0,0].plot(x, np.sin(2*np.pi*3*x))\n",
    "axes[0,1].plot(x, np.sin(2*np.pi*5*x))\n",
    "axes[1,0].plot(x, np.sin(2*np.pi*7*x))\n",
    "axes[1,1].plot(x, np.sin(2*np.pi*9*x))\n",
    "fig.suptitle('Sine family'); fig.tight_layout()\n",
    "plt.show()\n",
    "```\n",
    "Tasks:\n",
    "1. Create a 2×2 grid of related plots\n",
    "2. Share axes and set titles for each subplot"
   ]
  },
  {
   "cell_type": "code",
   "execution_count": null,
   "id": "85170125",
   "metadata": {},
   "outputs": [],
   "source": [
    "### Your code here\n"
   ]
  },
  {
   "cell_type": "markdown",
   "id": "761e42ea",
   "metadata": {},
   "source": [
    "## C. Scatter, histogram, and annotations\n",
    "\n",
    "Tasks:\n",
    "1. Scatter `x` vs `y` with alpha for overplotting\n",
    "2. Add a best‑fit line\n",
    "3. Histogram of residuals with 30 bins\n",
    "4. Annotate maximum point on the scatter"
   ]
  },
  {
   "cell_type": "code",
   "execution_count": null,
   "id": "1c569a8d",
   "metadata": {},
   "outputs": [],
   "source": [
    "### Your code here\n"
   ]
  },
  {
   "cell_type": "markdown",
   "id": "179bdf63",
   "metadata": {},
   "source": [
    "## D. Error bars and bar charts\n",
    "\n",
    "Tasks:\n",
    "1. Bar plot with means and standard deviations as error bars\n",
    "2. Grouped bars for 3 categories over 4 groups\n",
    "3. Rotate x‑tick labels and adjust layout"
   ]
  },
  {
   "cell_type": "code",
   "execution_count": null,
   "id": "70a83c77",
   "metadata": {},
   "outputs": [],
   "source": [
    "### Your code here\n"
   ]
  },
  {
   "cell_type": "markdown",
   "id": "2550bf7c",
   "metadata": {},
   "source": [
    "## E. Saving figures reproducibly\n",
    "\n",
    "**Sample snippet:**\n",
    "```python\n",
    "fig=plt.figure(figsize=(6,4))\n",
    "plt.plot(x, np.sin(2*np.pi*5*x))\n",
    "fig.savefig('figure.png', dpi=150, bbox_inches='tight')\n",
    "```\n",
    "Tasks:\n",
    "1. Save PNG and SVG versions\n",
    "2. Verify file sizes and discuss when to use each"
   ]
  },
  {
   "cell_type": "code",
   "execution_count": null,
   "id": "a6fa2350",
   "metadata": {},
   "outputs": [],
   "source": [
    "### Your code here\n"
   ]
  },
  {
   "cell_type": "markdown",
   "id": "8ebcdf5b",
   "metadata": {},
   "source": [
    "## F. Challenge — comparison dashboard\n",
    "\n",
    "Create a figure with 1 row, 3 columns:\n",
    "1. Raw noisy signal\n",
    "2. Smoothed signal\n",
    "3. Spectrum magnitude plot\n",
    "Use consistent labels and a shared legend where appropriate."
   ]
  },
  {
   "cell_type": "code",
   "execution_count": null,
   "id": "747a1c36",
   "metadata": {},
   "outputs": [],
   "source": [
    "### Your code here\n"
   ]
  },
  {
   "cell_type": "markdown",
   "id": "19ef857c",
   "metadata": {},
   "source": [
    "# Day 5 — Mini‑project: Noisy sine smoothing"
   ]
  },
  {
   "cell_type": "markdown",
   "id": "68526f67",
   "metadata": {},
   "source": [
    "## A. Data generation\n",
    "\n",
    "Tasks:\n",
    "1. Generate 2 seconds at `fs=500 Hz`\n",
    "2. Signal: `sin(2π·7t)`; noise: Gaussian with σ=0.4\n",
    "3. Combine to produce `y`"
   ]
  },
  {
   "cell_type": "code",
   "execution_count": null,
   "id": "f687a58d",
   "metadata": {},
   "outputs": [],
   "source": [
    "### Your code here\n"
   ]
  },
  {
   "cell_type": "markdown",
   "id": "d08e6ced",
   "metadata": {},
   "source": [
    "## B. Metrics\n",
    "\n",
    "Tasks:\n",
    "1. Implement `rms(v)`\n",
    "2. Compute SNR in dB relative to clean signal\n",
    "3. Report metrics before and after smoothing"
   ]
  },
  {
   "cell_type": "code",
   "execution_count": null,
   "id": "49872180",
   "metadata": {},
   "outputs": [],
   "source": [
    "### Your code here\n"
   ]
  },
  {
   "cell_type": "markdown",
   "id": "0fed71ce",
   "metadata": {},
   "source": [
    "## C. Smoothing methods\n",
    "\n",
    "Tasks:\n",
    "1. Moving average with window M=21\n",
    "2. Hanning window with M∈{11,31,101}\n",
    "3. Compare visually and via RMSE to clean signal"
   ]
  },
  {
   "cell_type": "code",
   "execution_count": null,
   "id": "4cee119e",
   "metadata": {},
   "outputs": [],
   "source": [
    "### Your code here\n"
   ]
  },
  {
   "cell_type": "markdown",
   "id": "d30f7af3",
   "metadata": {},
   "source": [
    "## D. Edge handling\n",
    "\n",
    "Tasks:\n",
    "1. Compare `mode='same'` vs padding with reflection\n",
    "2. Discuss bias near boundaries\n",
    "3. Optional: use `np.pad` and recompute"
   ]
  },
  {
   "cell_type": "code",
   "execution_count": null,
   "id": "51fd992a",
   "metadata": {},
   "outputs": [],
   "source": [
    "### Your code here\n"
   ]
  },
  {
   "cell_type": "markdown",
   "id": "3c0b3d4e",
   "metadata": {},
   "source": [
    "## E. Parameter sweep\n",
    "\n",
    "Tasks:\n",
    "1. Evaluate MA and Hanning for multiple M\n",
    "2. Plot RMSE vs M curves\n",
    "3. Pick best M by RMSE"
   ]
  },
  {
   "cell_type": "code",
   "execution_count": null,
   "id": "72bc952f",
   "metadata": {},
   "outputs": [],
   "source": [
    "### Your code here\n"
   ]
  },
  {
   "cell_type": "markdown",
   "id": "47590b7f",
   "metadata": {},
   "source": [
    "## F. I/O and reproducibility\n",
    "\n",
    "Tasks:\n",
    "1. Save `t, clean, y, y_smooth` to CSV\n",
    "2. Reload with `pandas` and verify equality\n",
    "3. Save final figure with proper metadata"
   ]
  },
  {
   "cell_type": "code",
   "execution_count": null,
   "id": "a08a93e7",
   "metadata": {},
   "outputs": [],
   "source": [
    "### Your code here\n"
   ]
  },
  {
   "cell_type": "markdown",
   "id": "6f19020e",
   "metadata": {},
   "source": [
    "## G. Report cell\n",
    "\n",
    "Write a short summary with numeric results:\n",
    "- Best window and size\n",
    "- RMSE and SNR improvements\n",
    "- Any visual artifacts observed"
   ]
  },
  {
   "cell_type": "markdown",
   "id": "d70778a9",
   "metadata": {},
   "source": [
    "*(Write your summary here.)*"
   ]
  }
 ],
 "metadata": {
  "kernelspec": {
   "display_name": "Python 3",
   "language": "python",
   "name": "python3"
  }
 },
 "nbformat": 4,
 "nbformat_minor": 5
}
